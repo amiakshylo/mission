{
 "cells": [
  {
   "metadata": {},
   "cell_type": "markdown",
   "source": "",
   "id": "d143f4ace2d0afaa"
  },
  {
   "cell_type": "code",
   "id": "initial_id",
   "metadata": {
    "collapsed": true,
    "ExecuteTime": {
     "end_time": "2024-08-26T19:57:13.066325Z",
     "start_time": "2024-08-26T19:57:12.891850Z"
    }
   },
   "source": "ChatCompletion(id='chatcmpl-A0a4OktizaVGihOGbWpyeiYqgnQ3m', choices=[Choice(finish_reason='stop', index=0, logprobs=None, message=ChatCompletionMessage(content='1. Goal Title: Enhance Programming Skills\\n   Description: Improve proficiency in a specific programming language or technology.\\n\\n2. Goal Title: Networking for Career Growth\\n   Description: Expand professional network by attending tech conferences and networking events.\\n\\n3. Goal Title: Time Management Improvement\\n   Description: Implement time management strategies to increase productivity and meet project deadlines efficiently.\\n\\n4. Goal Title: Continuous Learning in Software Development\\n   Description: Devote time each week to learning new software development tools or techniques.\\n\\n5. Goal Title: Healthier Work Habits\\n   Description: Incorporate regular breaks and physical activity into the work routine to promote overall well-being.', role='assistant', function_call=None, tool_calls=None, refusal=None))], created=1724702016, model='gpt-3.5-turbo-0125', object='chat.completion', service_tier=None, system_fingerprint=None, usage=CompletionUsage(completion_tokens=131, prompt_tokens=285, total_tokens=416))\n",
   "outputs": [
    {
     "ename": "NameError",
     "evalue": "name 'ChatCompletion' is not defined",
     "output_type": "error",
     "traceback": [
      "\u001B[0;31m---------------------------------------------------------------------------\u001B[0m",
      "\u001B[0;31mNameError\u001B[0m                                 Traceback (most recent call last)",
      "Cell \u001B[0;32mIn[1], line 1\u001B[0m\n\u001B[0;32m----> 1\u001B[0m ChatCompletion(\u001B[38;5;28mid\u001B[39m\u001B[38;5;241m=\u001B[39m\u001B[38;5;124m'\u001B[39m\u001B[38;5;124mchatcmpl-A0a4OktizaVGihOGbWpyeiYqgnQ3m\u001B[39m\u001B[38;5;124m'\u001B[39m, choices\u001B[38;5;241m=\u001B[39m[Choice(finish_reason\u001B[38;5;241m=\u001B[39m\u001B[38;5;124m'\u001B[39m\u001B[38;5;124mstop\u001B[39m\u001B[38;5;124m'\u001B[39m, index\u001B[38;5;241m=\u001B[39m\u001B[38;5;241m0\u001B[39m, logprobs\u001B[38;5;241m=\u001B[39m\u001B[38;5;28;01mNone\u001B[39;00m, message\u001B[38;5;241m=\u001B[39mChatCompletionMessage(content\u001B[38;5;241m=\u001B[39m\u001B[38;5;124m'\u001B[39m\u001B[38;5;124m1. Goal Title: Enhance Programming Skills\u001B[39m\u001B[38;5;130;01m\\n\u001B[39;00m\u001B[38;5;124m   Description: Improve proficiency in a specific programming language or technology.\u001B[39m\u001B[38;5;130;01m\\n\u001B[39;00m\u001B[38;5;130;01m\\n\u001B[39;00m\u001B[38;5;124m2. Goal Title: Networking for Career Growth\u001B[39m\u001B[38;5;130;01m\\n\u001B[39;00m\u001B[38;5;124m   Description: Expand professional network by attending tech conferences and networking events.\u001B[39m\u001B[38;5;130;01m\\n\u001B[39;00m\u001B[38;5;130;01m\\n\u001B[39;00m\u001B[38;5;124m3. Goal Title: Time Management Improvement\u001B[39m\u001B[38;5;130;01m\\n\u001B[39;00m\u001B[38;5;124m   Description: Implement time management strategies to increase productivity and meet project deadlines efficiently.\u001B[39m\u001B[38;5;130;01m\\n\u001B[39;00m\u001B[38;5;130;01m\\n\u001B[39;00m\u001B[38;5;124m4. Goal Title: Continuous Learning in Software Development\u001B[39m\u001B[38;5;130;01m\\n\u001B[39;00m\u001B[38;5;124m   Description: Devote time each week to learning new software development tools or techniques.\u001B[39m\u001B[38;5;130;01m\\n\u001B[39;00m\u001B[38;5;130;01m\\n\u001B[39;00m\u001B[38;5;124m5. Goal Title: Healthier Work Habits\u001B[39m\u001B[38;5;130;01m\\n\u001B[39;00m\u001B[38;5;124m   Description: Incorporate regular breaks and physical activity into the work routine to promote overall well-being.\u001B[39m\u001B[38;5;124m'\u001B[39m, role\u001B[38;5;241m=\u001B[39m\u001B[38;5;124m'\u001B[39m\u001B[38;5;124massistant\u001B[39m\u001B[38;5;124m'\u001B[39m, function_call\u001B[38;5;241m=\u001B[39m\u001B[38;5;28;01mNone\u001B[39;00m, tool_calls\u001B[38;5;241m=\u001B[39m\u001B[38;5;28;01mNone\u001B[39;00m, refusal\u001B[38;5;241m=\u001B[39m\u001B[38;5;28;01mNone\u001B[39;00m))], created\u001B[38;5;241m=\u001B[39m\u001B[38;5;241m1724702016\u001B[39m, model\u001B[38;5;241m=\u001B[39m\u001B[38;5;124m'\u001B[39m\u001B[38;5;124mgpt-3.5-turbo-0125\u001B[39m\u001B[38;5;124m'\u001B[39m, \u001B[38;5;28mobject\u001B[39m\u001B[38;5;241m=\u001B[39m\u001B[38;5;124m'\u001B[39m\u001B[38;5;124mchat.completion\u001B[39m\u001B[38;5;124m'\u001B[39m, service_tier\u001B[38;5;241m=\u001B[39m\u001B[38;5;28;01mNone\u001B[39;00m, system_fingerprint\u001B[38;5;241m=\u001B[39m\u001B[38;5;28;01mNone\u001B[39;00m, usage\u001B[38;5;241m=\u001B[39mCompletionUsage(completion_tokens\u001B[38;5;241m=\u001B[39m\u001B[38;5;241m131\u001B[39m, prompt_tokens\u001B[38;5;241m=\u001B[39m\u001B[38;5;241m285\u001B[39m, total_tokens\u001B[38;5;241m=\u001B[39m\u001B[38;5;241m416\u001B[39m))\n",
      "\u001B[0;31mNameError\u001B[0m: name 'ChatCompletion' is not defined"
     ]
    }
   ],
   "execution_count": 1
  }
 ],
 "metadata": {
  "kernelspec": {
   "display_name": "Python 3",
   "language": "python",
   "name": "python3"
  },
  "language_info": {
   "codemirror_mode": {
    "name": "ipython",
    "version": 2
   },
   "file_extension": ".py",
   "mimetype": "text/x-python",
   "name": "python",
   "nbconvert_exporter": "python",
   "pygments_lexer": "ipython2",
   "version": "2.7.6"
  }
 },
 "nbformat": 4,
 "nbformat_minor": 5
}
